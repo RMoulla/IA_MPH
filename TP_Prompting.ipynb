{
  "cells": [
    {
      "cell_type": "markdown",
      "metadata": {
        "id": "view-in-github",
        "colab_type": "text"
      },
      "source": [
        "<a href=\"https://colab.research.google.com/github/RMoulla/IA_MPH/blob/main/TP_Prompting.ipynb\" target=\"_parent\"><img src=\"https://colab.research.google.com/assets/colab-badge.svg\" alt=\"Open In Colab\"/></a>"
      ]
    },
    {
      "cell_type": "markdown",
      "metadata": {
        "id": "DgxZbSf5P9K6"
      },
      "source": [
        "# TP — Prompting\n",
        "\n",
        "## Objectifs\n",
        "- Concevoir des prompts clairs avec contraintes mesurables.\n",
        "- Obtenir des sorties au format strict (sections, tableau, JSON).\n",
        "- Adapter ton et structure à une situation précise.\n",
        "- Itérer et améliorer une sortie de façon tangible.\n"
      ],
      "id": "DgxZbSf5P9K6"
    },
    {
      "cell_type": "markdown",
      "metadata": {
        "id": "y2kdVDJnP9K8"
      },
      "source": [
        "## Format universel d’un prompt\n",
        "1. **Contexte & audience** – pour qui, dans quelle situation.\n",
        "2. **Rôle** – ce que l’IA doit incarner.\n",
        "3. **Tâche** – action unique, observable.\n",
        "4. **Contraintes** – longueur, ton, interdits, données à inclure.\n",
        "5. **Format de sortie** – sections, tableau, JSON, etc.\n",
        "6. **Vérification** – signaler les incertitudes / refuser si non conforme."
      ],
      "id": "y2kdVDJnP9K8"
    },
    {
      "cell_type": "markdown",
      "metadata": {
        "id": "IlbYXsr3P9K8"
      },
      "source": [
        "\n",
        "## **Exercice 1 — Post LinkedIn**\n",
        "**Objectif :** obtenir un texte conforme à un gabarit précis.\n",
        "\n",
        "Prompt à copier-coller\n",
        "\n",
        "```prompt\n",
        "Tu es responsable communication. Rédige un post LinkedIn professionnel annonçant la tenue du Salon de l’Innovation\n",
        "Agroalimentaire où ton entreprise présentera ses nouvelles solutions de data analytics pour la grande distribution.  \n",
        "Contrainte de longueur : 200–300 mots.  \n",
        "Ton : clair, engageant, sans superlatifs.  \n",
        "Structure exacte :  \n",
        "1) Accroche (1 phrase, ≤ 20 mots)  \n",
        "2) Contexte (4 phrases)  \n",
        "3) Valeur ajoutée pour le visiteur (3 puces)  \n",
        "4) Détails pratiques (date, lieu, stand, horaires)  \n",
        "5) Appel à action (CTA simple et direct)  \n",
        "Interdits : jargon technique excessif, promesses vagues, emojis excessifs.  \n",
        "Format de sortie : respecte strictement les 5 sections, dans l’ordre.  \n",
        "Vérification : si une section manque ou dépasse, refuse et demande clarification.  \n",
        "```"
      ],
      "id": "IlbYXsr3P9K8"
    },
    {
      "cell_type": "markdown",
      "metadata": {
        "id": "zKfT0I3cP9K9"
      },
      "source": [
        "## **Exercice 2 — Email d’annonce de hausse de prix**\n",
        "**Objectif :** cadrer une demande sensible avec ton et structure adaptés.\n",
        "\n",
        "**Contexte & données :** clients PME existants ; hausse +5 % ; date d’effet 1ᵉʳ novembre (année en cours).\n",
        "\n",
        "Prompt à copier-coller\n",
        "\n",
        "```prompt\n",
        "Tu es account manager B2B. Rédige un email annonçant une hausse de prix +5 % effective le 1ᵉʳ novembre pour des clients PME existants.\n",
        "Contraintes : 130–160 mots ; structure : Objet → raison chiffrée (2 causes) → geste commercial (remise transitoire ou extension de service) → CTA (prendre RDV, lien Calendly fictif) → signature.\n",
        "Interdits : jargon, hyperboles, excuses vagues.\n",
        "Format de sortie : fournis le corps de l’email et deux variantes d’objet (≤ 9 mots chacune) puis choisis la meilleure en 3 puces (taux d’ouverture, clarté, honnêteté).\n",
        "Vérification : ne rien inventer ; signaler toute donnée manquante.\n",
        "```"
      ],
      "id": "zKfT0I3cP9K9"
    },
    {
      "cell_type": "markdown",
      "metadata": {
        "id": "Gv4vBWn2P9K9"
      },
      "source": [
        "## **Exercice 3 — Extraction depuis un texte non structuré**\n",
        "**Objectif :** produire un JSON exploitable sans invention à partir d’un texte bruyant.\n",
        "\n",
        "\n",
        "\n",
        "```context\n",
        "“Alors, ce *Borea X-2* (oui certains l’écrivent X2) c’est notre casque sans fil préféré du moment. Côté autonomie, on a tourné près de 30 h (en labo : 28 h 30). Bluetooth 5.3, ANC intégrée, USB-C, poids autour de 240 g. Prix boutique vu hier : 129 € TTC (il y avait une promo à 119 € mais finie). Garantie annoncée 2 ans. Franchement top… sauf le micro moyen et l’appli mobile très légère. Coloris noir/bleu. Livraison 48 h si stock.”\n",
        "```\n",
        "\n",
        "Prompt à copier-coller\n",
        "```prompt\n",
        "Rôle : spécialiste data rigoureux.\n",
        "Tâche : extraire les informations produit depuis le texte ci-dessus en JSON strict, une seule ligne.\n",
        "Schéma :\n",
        "`{\"produit\":\"\",\"prix_eur\":0,\"autonomie_h\":0,\"poids_g\":0,\"connectivite\":\"\",\"anc\":false,\"garantie_annees\":0,\"points_forts\":[],\"points_faibles\":[]}`\n",
        "Règles :\n",
        "- Aucune invention ; si une info manque, mettre `null`.\n",
        "- Conflits : privilégier la spécification nominale (ex. “30 h”) sur la mesure de labo (“28 h 30”).\n",
        "- Normalisation :\n",
        "  - `connectivite` = “Bluetooth 5.3”.\n",
        "  - `anc` = `true` si ANC mentionnée, sinon `false`.\n",
        "  - `prix_eur` = prix public hors promo (129).\n",
        "  - `poids_g` = entier (240).\n",
        "  - `autonomie_h` = nombre (30).\n",
        "Format de sortie : retourner uniquement la ligne JSON, rien d’autre.\n",
        "```"
      ],
      "id": "Gv4vBWn2P9K9"
    },
    {
      "cell_type": "markdown",
      "metadata": {
        "id": "LQfrrd9yP9K9"
      },
      "source": [
        "## **Exercice 4 — Itération guidée et tableau décisionnel**\n",
        "**Objectif :** améliorer une sortie par auto-critique et livrer un format actionnable.\n",
        "\n",
        "**Étape 1 — Auto-critique**\n",
        "\n",
        "\n",
        "**Étape 2 — Nouvelle version au format décisionnel**\n",
        "\n",
        "\n",
        "Prompt 1 à copier-coller : auto-critique\n",
        "```prompt\n",
        "Fournis une auto-critique en 3 puces : clarté, actionnabilité, risques. Sois concret et mesurable.\n",
        "```\n",
        "\n",
        "Prompt 2 à compier coller\n",
        "```prompt\n",
        "Réécris la proposition en intégrant l’auto-critique.\n",
        "```"
      ],
      "id": "LQfrrd9yP9K9"
    }
  ],
  "metadata": {
    "kernelspec": {
      "display_name": "Python 3",
      "language": "python",
      "name": "python3"
    },
    "language_info": {
      "name": "python",
      "version": "3.x"
    },
    "colab": {
      "provenance": [],
      "include_colab_link": true
    }
  },
  "nbformat": 4,
  "nbformat_minor": 5
}